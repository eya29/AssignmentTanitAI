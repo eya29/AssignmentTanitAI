{
 "cells": [
  {
   "cell_type": "markdown",
   "id": "58812143-33b3-4e80-9f0d-2ce632365402",
   "metadata": {},
   "source": [
    "### visualize json files "
   ]
  },
  {
   "cell_type": "code",
   "execution_count": 191,
   "id": "0501473e-8f21-43cb-8026-5714d11f4436",
   "metadata": {},
   "outputs": [
    {
     "name": "stdout",
     "output_type": "stream",
     "text": [
      "                                            paper_id  \\\n",
      "0  xml_output_grobid_python_client\\-em-Fertility-...   \n",
      "1  xml_output_grobid_python_client\\A-&#x201c;firs...   \n",
      "2  xml_output_grobid_python_client\\A-behind-the-s...   \n",
      "3  xml_output_grobid_python_client\\A-call-to-acti...   \n",
      "4  xml_output_grobid_python_client\\A-case-report-...   \n",
      "\n",
      "                                               title  \\\n",
      "0       Fertility and Sterility top videos from 2021   \n",
      "1  A “first” on the horizon: the expansion of ute...   \n",
      "2  A behind-the-scenes look at retroperitoneal ec...   \n",
      "3  A call to action to reproductive endocrinologi...   \n",
      "4  A case report of retroperitoneal ectopic pregn...   \n",
      "\n",
      "                                             authors year venue  \\\n",
      "0  [{'first': 'Joseph', 'middle': [], 'last': 'Fi...       None   \n",
      "1  [{'first': 'Elliott', 'middle': ['G'], 'last':...       None   \n",
      "2  [{'first': 'Sarah', 'middle': [], 'last': 'Sim...       None   \n",
      "3  [{'first': 'Nanette', 'middle': [], 'last': 'S...       None   \n",
      "4  [{'first': 'Jing', 'middle': [], 'last': 'Yuan...       None   \n",
      "\n",
      "                                            abstract header.generated_with  \\\n",
      "0  Objective: To objectively grade all video publ...           S2ORC 1.0.0   \n",
      "1                                                              S2ORC 1.0.0   \n",
      "2                                                              S2ORC 1.0.0   \n",
      "3                                                              S2ORC 1.0.0   \n",
      "4  Objective: To present a rare case of retroperi...           S2ORC 1.0.0   \n",
      "\n",
      "         header.date_generated  \\\n",
      "0  2024-03-25T16:28:28.250280Z   \n",
      "1  2024-03-25T16:28:28.274660Z   \n",
      "2  2024-03-25T16:28:28.296011Z   \n",
      "3  2024-03-25T16:28:28.318140Z   \n",
      "4  2024-03-25T16:28:28.340829Z   \n",
      "\n",
      "                                  pdf_parse.paper_id pdf_parse._pdf_hash  ...  \\\n",
      "0  xml_output_grobid_python_client\\-em-Fertility-...                      ...   \n",
      "1  xml_output_grobid_python_client\\A-&#x201c;firs...                      ...   \n",
      "2  xml_output_grobid_python_client\\A-behind-the-s...                      ...   \n",
      "3  xml_output_grobid_python_client\\A-call-to-acti...                      ...   \n",
      "4  xml_output_grobid_python_client\\A-case-report-...                      ...   \n",
      "\n",
      "  pdf_parse.ref_entries.TABREF581.text pdf_parse.ref_entries.TABREF581.html  \\\n",
      "0                                  NaN                                  NaN   \n",
      "1                                  NaN                                  NaN   \n",
      "2                                  NaN                                  NaN   \n",
      "3                                  NaN                                  NaN   \n",
      "4                                  NaN                                  NaN   \n",
      "\n",
      "  pdf_parse.ref_entries.TABREF581.num pdf_parse.ref_entries.TABREF581.content  \\\n",
      "0                                 NaN                                     NaN   \n",
      "1                                 NaN                                     NaN   \n",
      "2                                 NaN                                     NaN   \n",
      "3                                 NaN                                     NaN   \n",
      "4                                 NaN                                     NaN   \n",
      "\n",
      "  pdf_parse.ref_entries.TABREF581.type_str  \\\n",
      "0                                      NaN   \n",
      "1                                      NaN   \n",
      "2                                      NaN   \n",
      "3                                      NaN   \n",
      "4                                      NaN   \n",
      "\n",
      "   pdf_parse.ref_entries.TABREF582.text  pdf_parse.ref_entries.TABREF582.html  \\\n",
      "0                                   NaN                                   NaN   \n",
      "1                                   NaN                                   NaN   \n",
      "2                                   NaN                                   NaN   \n",
      "3                                   NaN                                   NaN   \n",
      "4                                   NaN                                   NaN   \n",
      "\n",
      "  pdf_parse.ref_entries.TABREF582.num pdf_parse.ref_entries.TABREF582.content  \\\n",
      "0                                 NaN                                     NaN   \n",
      "1                                 NaN                                     NaN   \n",
      "2                                 NaN                                     NaN   \n",
      "3                                 NaN                                     NaN   \n",
      "4                                 NaN                                     NaN   \n",
      "\n",
      "  pdf_parse.ref_entries.TABREF582.type_str  \n",
      "0                                      NaN  \n",
      "1                                      NaN  \n",
      "2                                      NaN  \n",
      "3                                      NaN  \n",
      "4                                      NaN  \n",
      "\n",
      "[5 rows x 5532 columns]\n"
     ]
    }
   ],
   "source": [
    "import os\n",
    "import json\n",
    "import pandas as pd\n",
    "\n",
    "folder_path = \"C:\\\\Users\\\\LENOVO\\\\test tanitai\\\\assignementdataset\"\n",
    "data = []\n",
    "for filename in os.listdir(folder_path):\n",
    "    if filename.endswith(\".json\"):\n",
    "        file_path = os.path.join(folder_path, filename)\n",
    "        with open(file_path, 'r', encoding='utf-8') as f:\n",
    "            json_data = json.load(f)\n",
    "            data.append(json_data)\n",
    "            \n",
    "df = pd.json_normalize(data)\n",
    "print(df.head())\n",
    "df.to_csv(\"C:\\\\Users\\\\LENOVO\\\\test tanitai\\\\combined_data.csv\", index=False)\n"
   ]
  },
  {
   "cell_type": "markdown",
   "id": "e234cd0f-a1d3-4d62-ab71-feaac213ad56",
   "metadata": {},
   "source": [
    "### Step2: Preprocessing Data "
   ]
  },
  {
   "cell_type": "code",
   "execution_count": 192,
   "id": "65d637b9-b23e-44b6-a838-f038be42f982",
   "metadata": {},
   "outputs": [
    {
     "name": "stdout",
     "output_type": "stream",
     "text": [
      "venue                                       50\n",
      "pdf_parse.ref_entries.TABREF0.html          50\n",
      "pdf_parse.ref_entries.TABREF0.num           50\n",
      "pdf_parse.ref_entries.TABREF0.text          29\n",
      "pdf_parse.ref_entries.TABREF0.content       29\n",
      "                                            ..\n",
      "pdf_parse.ref_entries.TABREF582.text        49\n",
      "pdf_parse.ref_entries.TABREF582.html        50\n",
      "pdf_parse.ref_entries.TABREF582.num         50\n",
      "pdf_parse.ref_entries.TABREF582.content     49\n",
      "pdf_parse.ref_entries.TABREF582.type_str    49\n",
      "Length: 5518, dtype: int64\n"
     ]
    }
   ],
   "source": [
    "missing_data = df.isnull().sum()\n",
    "print(missing_data[missing_data > 0])\n"
   ]
  },
  {
   "cell_type": "code",
   "execution_count": 193,
   "id": "45ee4c21-919e-4466-be17-9e5146e1f654",
   "metadata": {},
   "outputs": [
    {
     "name": "stdout",
     "output_type": "stream",
     "text": [
      "                                            paper_id  \\\n",
      "0  xml_output_grobid_python_client\\-em-Fertility-...   \n",
      "1  xml_output_grobid_python_client\\A-&#x201c;firs...   \n",
      "2  xml_output_grobid_python_client\\A-behind-the-s...   \n",
      "3  xml_output_grobid_python_client\\A-call-to-acti...   \n",
      "4  xml_output_grobid_python_client\\A-case-report-...   \n",
      "\n",
      "                                               title  \\\n",
      "0       Fertility and Sterility top videos from 2021   \n",
      "1  A “first” on the horizon: the expansion of ute...   \n",
      "2  A behind-the-scenes look at retroperitoneal ec...   \n",
      "3  A call to action to reproductive endocrinologi...   \n",
      "4  A case report of retroperitoneal ectopic pregn...   \n",
      "\n",
      "                                            abstract  \\\n",
      "0  Objective: To objectively grade all video publ...   \n",
      "1                                                      \n",
      "2                                                      \n",
      "3                                                      \n",
      "4  Objective: To present a rare case of retroperi...   \n",
      "\n",
      "                                             authors  \n",
      "0  [{'first': 'Joseph', 'middle': [], 'last': 'Fi...  \n",
      "1  [{'first': 'Elliott', 'middle': ['G'], 'last':...  \n",
      "2  [{'first': 'Sarah', 'middle': [], 'last': 'Sim...  \n",
      "3  [{'first': 'Nanette', 'middle': [], 'last': 'S...  \n",
      "4  [{'first': 'Jing', 'middle': [], 'last': 'Yuan...  \n"
     ]
    }
   ],
   "source": [
    "df = df[['paper_id', 'title', 'abstract', 'authors']]\n",
    "print(df.head())"
   ]
  },
  {
   "cell_type": "code",
   "execution_count": 194,
   "id": "1625a36e-7eef-4511-b27b-35543b8a3487",
   "metadata": {},
   "outputs": [
    {
     "name": "stdout",
     "output_type": "stream",
     "text": [
      "                                            paper_id  \\\n",
      "0  xml_output_grobid_python_client\\-em-Fertility-...   \n",
      "1  xml_output_grobid_python_client\\A-&#x201c;firs...   \n",
      "2  xml_output_grobid_python_client\\A-behind-the-s...   \n",
      "3  xml_output_grobid_python_client\\A-call-to-acti...   \n",
      "4  xml_output_grobid_python_client\\A-case-report-...   \n",
      "\n",
      "                                             authors  \\\n",
      "0  [{'first': 'Joseph', 'middle': [], 'last': 'Fi...   \n",
      "1  [{'first': 'Elliott', 'middle': ['G'], 'last':...   \n",
      "2  [{'first': 'Sarah', 'middle': [], 'last': 'Sim...   \n",
      "3  [{'first': 'Nanette', 'middle': [], 'last': 'S...   \n",
      "4  [{'first': 'Jing', 'middle': [], 'last': 'Yuan...   \n",
      "\n",
      "                                                text  \n",
      "0  Fertility and Sterility top videos from 2021 O...  \n",
      "1  A “first” on the horizon: the expansion of ute...  \n",
      "2  A behind-the-scenes look at retroperitoneal ec...  \n",
      "3  A call to action to reproductive endocrinologi...  \n",
      "4  A case report of retroperitoneal ectopic pregn...  \n"
     ]
    }
   ],
   "source": [
    "\n",
    "# Combine 'title' and 'abstract' into a single column called 'text'\n",
    "df['text'] = df['title'] + \" \" + df['abstract']\n",
    "\n",
    "# Drop the original 'title' and 'abstract' columns if no longer needed\n",
    "df = df.drop(columns=['title', 'abstract'])\n",
    "\n",
    "# Display the first few rows to verify\n",
    "print(df.head())"
   ]
  },
  {
   "cell_type": "code",
   "execution_count": 195,
   "id": "e889a1eb-8ae8-47d6-8b4b-853d832ae4f6",
   "metadata": {},
   "outputs": [],
   "source": [
    "#cleaning data\n",
    "import re\n",
    "def clean_text(text):\n",
    "    text = text.lower()\n",
    "    text = re.sub(r\"[^a-zA-Z\\s]\", \"\", text)\n",
    "    text = re.sub(r\"\\s+\", \" \", text).strip()\n",
    "    return text\n",
    "\n",
    "df['text'] = df['text'].apply(clean_text)"
   ]
  },
  {
   "cell_type": "code",
   "execution_count": 196,
   "id": "d585c09c-d9b1-4066-b576-b627794a711d",
   "metadata": {},
   "outputs": [
    {
     "data": {
      "text/html": [
       "<div>\n",
       "<style scoped>\n",
       "    .dataframe tbody tr th:only-of-type {\n",
       "        vertical-align: middle;\n",
       "    }\n",
       "\n",
       "    .dataframe tbody tr th {\n",
       "        vertical-align: top;\n",
       "    }\n",
       "\n",
       "    .dataframe thead th {\n",
       "        text-align: right;\n",
       "    }\n",
       "</style>\n",
       "<table border=\"1\" class=\"dataframe\">\n",
       "  <thead>\n",
       "    <tr style=\"text-align: right;\">\n",
       "      <th></th>\n",
       "      <th>paper_id</th>\n",
       "      <th>authors</th>\n",
       "      <th>text</th>\n",
       "    </tr>\n",
       "  </thead>\n",
       "  <tbody>\n",
       "    <tr>\n",
       "      <th>45</th>\n",
       "      <td>xml_output_cochrane\\Boomsma_et_al-2019-Cochran...</td>\n",
       "      <td>[{'first': 'Carolien', 'middle': ['M'], 'last'...</td>\n",
       "      <td>semen preparation techniques for intrauterine ...</td>\n",
       "    </tr>\n",
       "    <tr>\n",
       "      <th>46</th>\n",
       "      <td>xml_output_cochrane\\Boomsma_et_al-2022-Cochran...</td>\n",
       "      <td>[{'first': 'Carolien', 'middle': ['M'], 'last'...</td>\n",
       "      <td>periimplantation glucocorticoid administration...</td>\n",
       "    </tr>\n",
       "    <tr>\n",
       "      <th>47</th>\n",
       "      <td>xml_output_cochrane\\Brito_et_al-2019-Cochrane_...</td>\n",
       "      <td>[{'first': 'Luiz', 'middle': ['Gustavo'], 'las...</td>\n",
       "      <td>interventions for uterine fibroids an overview...</td>\n",
       "    </tr>\n",
       "    <tr>\n",
       "      <th>48</th>\n",
       "      <td>xml_output_cochrane\\Bromley_et_al-2023-Cochran...</td>\n",
       "      <td>[{'first': 'Rebecca', 'middle': [], 'last': 'B...</td>\n",
       "      <td>monotherapy treatment of epilepsy in pregnancy...</td>\n",
       "    </tr>\n",
       "    <tr>\n",
       "      <th>49</th>\n",
       "      <td>xml_output_cochrane\\Brown_et_al-2016-Cochrane_...</td>\n",
       "      <td>[{'first': 'Julie', 'middle': [], 'last': 'Bro...</td>\n",
       "      <td>ultrasound versus clinical touch for catheter ...</td>\n",
       "    </tr>\n",
       "  </tbody>\n",
       "</table>\n",
       "</div>"
      ],
      "text/plain": [
       "                                             paper_id  \\\n",
       "45  xml_output_cochrane\\Boomsma_et_al-2019-Cochran...   \n",
       "46  xml_output_cochrane\\Boomsma_et_al-2022-Cochran...   \n",
       "47  xml_output_cochrane\\Brito_et_al-2019-Cochrane_...   \n",
       "48  xml_output_cochrane\\Bromley_et_al-2023-Cochran...   \n",
       "49  xml_output_cochrane\\Brown_et_al-2016-Cochrane_...   \n",
       "\n",
       "                                              authors  \\\n",
       "45  [{'first': 'Carolien', 'middle': ['M'], 'last'...   \n",
       "46  [{'first': 'Carolien', 'middle': ['M'], 'last'...   \n",
       "47  [{'first': 'Luiz', 'middle': ['Gustavo'], 'las...   \n",
       "48  [{'first': 'Rebecca', 'middle': [], 'last': 'B...   \n",
       "49  [{'first': 'Julie', 'middle': [], 'last': 'Bro...   \n",
       "\n",
       "                                                 text  \n",
       "45  semen preparation techniques for intrauterine ...  \n",
       "46  periimplantation glucocorticoid administration...  \n",
       "47  interventions for uterine fibroids an overview...  \n",
       "48  monotherapy treatment of epilepsy in pregnancy...  \n",
       "49  ultrasound versus clinical touch for catheter ...  "
      ]
     },
     "execution_count": 196,
     "metadata": {},
     "output_type": "execute_result"
    }
   ],
   "source": [
    "df.tail()"
   ]
  },
  {
   "cell_type": "code",
   "execution_count": 197,
   "id": "e434cdd5-42f0-42be-a58b-af5062303bf9",
   "metadata": {},
   "outputs": [],
   "source": [
    "df.to_csv('preprocessed_data.csv')"
   ]
  },
  {
   "cell_type": "code",
   "execution_count": 198,
   "id": "91a8e378-4ca3-489a-a485-027cd5d65dba",
   "metadata": {},
   "outputs": [],
   "source": [
    "#convert text to list \n",
    "def load_csv_file(path):\n",
    "    df = pd.read_csv(path)\n",
    "    return df['text'].tolist()"
   ]
  },
  {
   "cell_type": "markdown",
   "id": "28e29348-86e0-4444-b13f-ec975817e90b",
   "metadata": {},
   "source": [
    "### Tokenization "
   ]
  },
  {
   "cell_type": "code",
   "execution_count": 205,
   "id": "2b102e74-39b0-4382-96b7-069bef42b6d7",
   "metadata": {},
   "outputs": [],
   "source": [
    "from transformers import BertTokenizer\n",
    "#tokenization\n",
    "tokenizer = BertTokenizer.from_pretrained('bert-base-uncased')\n",
    "def tokenize_data(texts):\n",
    "    return tokenizer(texts, padding=True, truncation=True, max_length=512, return_tensors=\"pt\")\n",
    "\n",
    "path_to_csv = \"preprocessed_data.csv\"\n",
    "X = load_csv_file(path_to_csv)\n",
    "\n",
    "X_tokenized = tokenize_data(X)\n",
    "y_tensor = torch.tensor(y)\n"
   ]
  },
  {
   "cell_type": "code",
   "execution_count": 200,
   "id": "1576866f-d338-4a46-bba9-0697efbcaadd",
   "metadata": {},
   "outputs": [],
   "source": [
    "# Split data\n",
    "X_train, X_temp, y_train, y_temp = train_test_split(X_tokenized['input_ids'], y_tensor, test_size=0.2, random_state=42)\n",
    "X_val, X_test, y_val, y_test = train_test_split(X_temp, y_temp, test_size=0.5, random_state=42)\n",
    "\n",
    "# Create DataLoader\n",
    "train_dataset = TensorDataset(X_train.squeeze(1), y_train)\n",
    "val_dataset = TensorDataset(X_val.squeeze(1), y_val)\n",
    "test_dataset = TensorDataset(X_test.squeeze(1), y_test)\n",
    "\n",
    "train_loader = DataLoader(train_dataset, batch_size=32, shuffle=True)\n",
    "val_loader = DataLoader(val_dataset, batch_size=32, shuffle=False)\n",
    "test_loader = DataLoader(test_dataset, batch_size=32, shuffle=False)\n"
   ]
  },
  {
   "cell_type": "code",
   "execution_count": 201,
   "id": "cbb28fa4-989d-4812-a22e-8b66d1c6548c",
   "metadata": {},
   "outputs": [],
   "source": [
    "class TextClassifier(torch.nn.Module):\n",
    "    def __init__(self, bert_model_name, num_classes):\n",
    "        super(TextClassifier, self).__init__()\n",
    "        self.bert = BertModel.from_pretrained(bert_model_name)\n",
    "        self.dropout = torch.nn.Dropout(0.3)\n",
    "        self.fc = torch.nn.Linear(self.bert.config.hidden_size, num_classes)\n",
    "\n",
    "    def forward(self, input_ids):\n",
    "        output = self.bert(input_ids=input_ids)\n",
    "        hidden_states = output.last_hidden_state\n",
    "        output = self.dropout(hidden_states[:, 0, :])\n",
    "        output = self.fc(output)\n",
    "        return output"
   ]
  },
  {
   "cell_type": "code",
   "execution_count": 202,
   "id": "92f134d7-ff24-4ab0-a12b-d44ea3ece683",
   "metadata": {},
   "outputs": [],
   "source": [
    "num_classes = len(torch.unique(y_tensor))\n",
    "model = TextClassifier('bert-base-uncased', num_classes)\n",
    "\n",
    "# Optimizer and Loss\n",
    "optimizer = torch.optim.Adam(model.parameters(), lr=0.001)\n",
    "criterion = torch.nn.CrossEntropyLoss()\n"
   ]
  },
  {
   "cell_type": "code",
   "execution_count": 203,
   "id": "4779a38a-37d4-429b-8337-9d42167cdcc8",
   "metadata": {},
   "outputs": [
    {
     "name": "stdout",
     "output_type": "stream",
     "text": [
      "Looking in indexes: https://download.pytorch.org/whl/cu11\n",
      "Requirement already satisfied: torch in c:\\users\\lenovo\\anaconda3\\envs\\pytorch\\lib\\site-packages (2.4.1)\n",
      "Requirement already satisfied: torchvision in c:\\users\\lenovo\\anaconda3\\envs\\pytorch\\lib\\site-packages (0.19.1)\n",
      "Requirement already satisfied: torchaudio in c:\\users\\lenovo\\anaconda3\\envs\\pytorch\\lib\\site-packages (2.4.1)\n",
      "Requirement already satisfied: filelock in c:\\users\\lenovo\\anaconda3\\envs\\pytorch\\lib\\site-packages (from torch) (3.13.1)\n",
      "Requirement already satisfied: typing-extensions>=4.8.0 in c:\\users\\lenovo\\anaconda3\\envs\\pytorch\\lib\\site-packages (from torch) (4.11.0)\n",
      "Requirement already satisfied: sympy in c:\\users\\lenovo\\anaconda3\\envs\\pytorch\\lib\\site-packages (from torch) (1.13.2)\n",
      "Requirement already satisfied: networkx in c:\\users\\lenovo\\anaconda3\\envs\\pytorch\\lib\\site-packages (from torch) (3.2.1)\n",
      "Requirement already satisfied: jinja2 in c:\\users\\lenovo\\anaconda3\\envs\\pytorch\\lib\\site-packages (from torch) (3.1.4)\n",
      "Requirement already satisfied: fsspec in c:\\users\\lenovo\\anaconda3\\envs\\pytorch\\lib\\site-packages (from torch) (2024.9.0)\n",
      "Requirement already satisfied: setuptools in c:\\users\\lenovo\\anaconda3\\envs\\pytorch\\lib\\site-packages (from torch) (75.1.0)\n",
      "Requirement already satisfied: numpy in c:\\users\\lenovo\\anaconda3\\envs\\pytorch\\lib\\site-packages (from torchvision) (2.0.1)\n",
      "Requirement already satisfied: pillow!=8.3.*,>=5.3.0 in c:\\users\\lenovo\\anaconda3\\envs\\pytorch\\lib\\site-packages (from torchvision) (10.4.0)\n",
      "Requirement already satisfied: MarkupSafe>=2.0 in c:\\users\\lenovo\\anaconda3\\envs\\pytorch\\lib\\site-packages (from jinja2->torch) (2.1.3)\n",
      "Requirement already satisfied: mpmath<1.4,>=1.1.0 in c:\\users\\lenovo\\anaconda3\\envs\\pytorch\\lib\\site-packages (from sympy->torch) (1.3.0)\n",
      "Note: you may need to restart the kernel to use updated packages.\n"
     ]
    }
   ],
   "source": [
    "pip install torch torchvision torchaudio --index-url https://download.pytorch.org/whl/cu11\n"
   ]
  },
  {
   "cell_type": "markdown",
   "id": "ea31824f-5790-4b4f-ad85-c983fc29925d",
   "metadata": {},
   "source": [
    "###  Training"
   ]
  },
  {
   "cell_type": "code",
   "execution_count": 204,
   "id": "570cb776-17e0-4c09-847c-4f606d2d5eac",
   "metadata": {},
   "outputs": [
    {
     "ename": "RuntimeError",
     "evalue": "CUDA error: unknown error\nCUDA kernel errors might be asynchronously reported at some other API call, so the stacktrace below might be incorrect.\nFor debugging consider passing CUDA_LAUNCH_BLOCKING=1\nCompile with `TORCH_USE_CUDA_DSA` to enable device-side assertions.\n",
     "output_type": "error",
     "traceback": [
      "\u001b[1;31m---------------------------------------------------------------------------\u001b[0m",
      "\u001b[1;31mRuntimeError\u001b[0m                              Traceback (most recent call last)",
      "Cell \u001b[1;32mIn[204], line 11\u001b[0m\n\u001b[0;32m      9\u001b[0m     loss \u001b[38;5;241m=\u001b[39m criterion(outputs, y_batch)\n\u001b[0;32m     10\u001b[0m     loss\u001b[38;5;241m.\u001b[39mbackward()\n\u001b[1;32m---> 11\u001b[0m     \u001b[43moptimizer\u001b[49m\u001b[38;5;241;43m.\u001b[39;49m\u001b[43mstep\u001b[49m\u001b[43m(\u001b[49m\u001b[43m)\u001b[49m\n\u001b[0;32m     12\u001b[0m     running_loss \u001b[38;5;241m+\u001b[39m\u001b[38;5;241m=\u001b[39m loss\u001b[38;5;241m.\u001b[39mitem()\n\u001b[0;32m     14\u001b[0m \u001b[38;5;66;03m# Validation\u001b[39;00m\n",
      "File \u001b[1;32m~\\anaconda3\\envs\\pytorch\\Lib\\site-packages\\torch\\optim\\optimizer.py:484\u001b[0m, in \u001b[0;36mOptimizer.profile_hook_step.<locals>.wrapper\u001b[1;34m(*args, **kwargs)\u001b[0m\n\u001b[0;32m    479\u001b[0m         \u001b[38;5;28;01melse\u001b[39;00m:\n\u001b[0;32m    480\u001b[0m             \u001b[38;5;28;01mraise\u001b[39;00m \u001b[38;5;167;01mRuntimeError\u001b[39;00m(\n\u001b[0;32m    481\u001b[0m                 \u001b[38;5;124mf\u001b[39m\u001b[38;5;124m\"\u001b[39m\u001b[38;5;132;01m{\u001b[39;00mfunc\u001b[38;5;132;01m}\u001b[39;00m\u001b[38;5;124m must return None or a tuple of (new_args, new_kwargs), but got \u001b[39m\u001b[38;5;132;01m{\u001b[39;00mresult\u001b[38;5;132;01m}\u001b[39;00m\u001b[38;5;124m.\u001b[39m\u001b[38;5;124m\"\u001b[39m\n\u001b[0;32m    482\u001b[0m             )\n\u001b[1;32m--> 484\u001b[0m out \u001b[38;5;241m=\u001b[39m \u001b[43mfunc\u001b[49m\u001b[43m(\u001b[49m\u001b[38;5;241;43m*\u001b[39;49m\u001b[43margs\u001b[49m\u001b[43m,\u001b[49m\u001b[43m \u001b[49m\u001b[38;5;241;43m*\u001b[39;49m\u001b[38;5;241;43m*\u001b[39;49m\u001b[43mkwargs\u001b[49m\u001b[43m)\u001b[49m\n\u001b[0;32m    485\u001b[0m \u001b[38;5;28mself\u001b[39m\u001b[38;5;241m.\u001b[39m_optimizer_step_code()\n\u001b[0;32m    487\u001b[0m \u001b[38;5;66;03m# call optimizer step post hooks\u001b[39;00m\n",
      "File \u001b[1;32m~\\anaconda3\\envs\\pytorch\\Lib\\site-packages\\torch\\optim\\optimizer.py:89\u001b[0m, in \u001b[0;36m_use_grad_for_differentiable.<locals>._use_grad\u001b[1;34m(self, *args, **kwargs)\u001b[0m\n\u001b[0;32m     87\u001b[0m     torch\u001b[38;5;241m.\u001b[39mset_grad_enabled(\u001b[38;5;28mself\u001b[39m\u001b[38;5;241m.\u001b[39mdefaults[\u001b[38;5;124m\"\u001b[39m\u001b[38;5;124mdifferentiable\u001b[39m\u001b[38;5;124m\"\u001b[39m])\n\u001b[0;32m     88\u001b[0m     torch\u001b[38;5;241m.\u001b[39m_dynamo\u001b[38;5;241m.\u001b[39mgraph_break()\n\u001b[1;32m---> 89\u001b[0m     ret \u001b[38;5;241m=\u001b[39m \u001b[43mfunc\u001b[49m\u001b[43m(\u001b[49m\u001b[38;5;28;43mself\u001b[39;49m\u001b[43m,\u001b[49m\u001b[43m \u001b[49m\u001b[38;5;241;43m*\u001b[39;49m\u001b[43margs\u001b[49m\u001b[43m,\u001b[49m\u001b[43m \u001b[49m\u001b[38;5;241;43m*\u001b[39;49m\u001b[38;5;241;43m*\u001b[39;49m\u001b[43mkwargs\u001b[49m\u001b[43m)\u001b[49m\n\u001b[0;32m     90\u001b[0m \u001b[38;5;28;01mfinally\u001b[39;00m:\n\u001b[0;32m     91\u001b[0m     torch\u001b[38;5;241m.\u001b[39m_dynamo\u001b[38;5;241m.\u001b[39mgraph_break()\n",
      "File \u001b[1;32m~\\anaconda3\\envs\\pytorch\\Lib\\site-packages\\torch\\optim\\adam.py:200\u001b[0m, in \u001b[0;36mAdam.step\u001b[1;34m(self, closure)\u001b[0m\n\u001b[0;32m    192\u001b[0m \u001b[38;5;129m@_use_grad_for_differentiable\u001b[39m\n\u001b[0;32m    193\u001b[0m \u001b[38;5;28;01mdef\u001b[39;00m \u001b[38;5;21mstep\u001b[39m(\u001b[38;5;28mself\u001b[39m, closure\u001b[38;5;241m=\u001b[39m\u001b[38;5;28;01mNone\u001b[39;00m):\n\u001b[0;32m    194\u001b[0m \u001b[38;5;250m    \u001b[39m\u001b[38;5;124;03m\"\"\"Perform a single optimization step.\u001b[39;00m\n\u001b[0;32m    195\u001b[0m \n\u001b[0;32m    196\u001b[0m \u001b[38;5;124;03m    Args:\u001b[39;00m\n\u001b[0;32m    197\u001b[0m \u001b[38;5;124;03m        closure (Callable, optional): A closure that reevaluates the model\u001b[39;00m\n\u001b[0;32m    198\u001b[0m \u001b[38;5;124;03m            and returns the loss.\u001b[39;00m\n\u001b[0;32m    199\u001b[0m \u001b[38;5;124;03m    \"\"\"\u001b[39;00m\n\u001b[1;32m--> 200\u001b[0m     \u001b[38;5;28;43mself\u001b[39;49m\u001b[38;5;241;43m.\u001b[39;49m\u001b[43m_cuda_graph_capture_health_check\u001b[49m\u001b[43m(\u001b[49m\u001b[43m)\u001b[49m\n\u001b[0;32m    202\u001b[0m     loss \u001b[38;5;241m=\u001b[39m \u001b[38;5;28;01mNone\u001b[39;00m\n\u001b[0;32m    203\u001b[0m     \u001b[38;5;28;01mif\u001b[39;00m closure \u001b[38;5;129;01mis\u001b[39;00m \u001b[38;5;129;01mnot\u001b[39;00m \u001b[38;5;28;01mNone\u001b[39;00m:\n",
      "File \u001b[1;32m~\\anaconda3\\envs\\pytorch\\Lib\\site-packages\\torch\\optim\\optimizer.py:426\u001b[0m, in \u001b[0;36mOptimizer._cuda_graph_capture_health_check\u001b[1;34m(self)\u001b[0m\n\u001b[0;32m    410\u001b[0m \u001b[38;5;28;01mdef\u001b[39;00m \u001b[38;5;21m_cuda_graph_capture_health_check\u001b[39m(\u001b[38;5;28mself\u001b[39m) \u001b[38;5;241m-\u001b[39m\u001b[38;5;241m>\u001b[39m \u001b[38;5;28;01mNone\u001b[39;00m:\n\u001b[0;32m    411\u001b[0m     \u001b[38;5;66;03m# Note [torch.compile x capturable]\u001b[39;00m\n\u001b[0;32m    412\u001b[0m     \u001b[38;5;66;03m# If we are compiling, we try to take the capturable path automatically by\u001b[39;00m\n\u001b[1;32m   (...)\u001b[0m\n\u001b[0;32m    419\u001b[0m     \u001b[38;5;66;03m# Thus, when compiling, inductor will determine if cudagraphs\u001b[39;00m\n\u001b[0;32m    420\u001b[0m     \u001b[38;5;66;03m# can be enabled based on whether there is input mutation or CPU tensors.\u001b[39;00m\n\u001b[0;32m    421\u001b[0m     \u001b[38;5;28;01mif\u001b[39;00m (\n\u001b[0;32m    422\u001b[0m         \u001b[38;5;129;01mnot\u001b[39;00m is_compiling()\n\u001b[0;32m    423\u001b[0m         \u001b[38;5;129;01mand\u001b[39;00m torch\u001b[38;5;241m.\u001b[39mbackends\u001b[38;5;241m.\u001b[39mcuda\u001b[38;5;241m.\u001b[39mis_built()\n\u001b[0;32m    424\u001b[0m         \u001b[38;5;129;01mand\u001b[39;00m torch\u001b[38;5;241m.\u001b[39mcuda\u001b[38;5;241m.\u001b[39mis_available()\n\u001b[0;32m    425\u001b[0m     ):\n\u001b[1;32m--> 426\u001b[0m         capturing \u001b[38;5;241m=\u001b[39m \u001b[43mtorch\u001b[49m\u001b[38;5;241;43m.\u001b[39;49m\u001b[43mcuda\u001b[49m\u001b[38;5;241;43m.\u001b[39;49m\u001b[43mis_current_stream_capturing\u001b[49m\u001b[43m(\u001b[49m\u001b[43m)\u001b[49m\n\u001b[0;32m    428\u001b[0m         \u001b[38;5;28;01mif\u001b[39;00m capturing \u001b[38;5;129;01mand\u001b[39;00m \u001b[38;5;129;01mnot\u001b[39;00m \u001b[38;5;28mall\u001b[39m(\n\u001b[0;32m    429\u001b[0m             group[\u001b[38;5;124m\"\u001b[39m\u001b[38;5;124mcapturable\u001b[39m\u001b[38;5;124m\"\u001b[39m] \u001b[38;5;28;01mfor\u001b[39;00m group \u001b[38;5;129;01min\u001b[39;00m \u001b[38;5;28mself\u001b[39m\u001b[38;5;241m.\u001b[39mparam_groups\n\u001b[0;32m    430\u001b[0m         ):\n\u001b[0;32m    431\u001b[0m             \u001b[38;5;28;01mraise\u001b[39;00m \u001b[38;5;167;01mRuntimeError\u001b[39;00m(\n\u001b[0;32m    432\u001b[0m                 \u001b[38;5;124m\"\u001b[39m\u001b[38;5;124mAttempting CUDA graph capture of step() for an instance of \u001b[39m\u001b[38;5;124m\"\u001b[39m\n\u001b[0;32m    433\u001b[0m                 \u001b[38;5;241m+\u001b[39m \u001b[38;5;28mself\u001b[39m\u001b[38;5;241m.\u001b[39m\u001b[38;5;18m__class__\u001b[39m\u001b[38;5;241m.\u001b[39m\u001b[38;5;18m__name__\u001b[39m\n\u001b[0;32m    434\u001b[0m                 \u001b[38;5;241m+\u001b[39m \u001b[38;5;124m\"\u001b[39m\u001b[38;5;124m but param_groups\u001b[39m\u001b[38;5;124m'\u001b[39m\u001b[38;5;124m capturable is False.\u001b[39m\u001b[38;5;124m\"\u001b[39m\n\u001b[0;32m    435\u001b[0m             )\n",
      "File \u001b[1;32m~\\anaconda3\\envs\\pytorch\\Lib\\site-packages\\torch\\cuda\\graphs.py:29\u001b[0m, in \u001b[0;36mis_current_stream_capturing\u001b[1;34m()\u001b[0m\n\u001b[0;32m     24\u001b[0m \u001b[38;5;28;01mdef\u001b[39;00m \u001b[38;5;21mis_current_stream_capturing\u001b[39m():\n\u001b[0;32m     25\u001b[0m \u001b[38;5;250m    \u001b[39m\u001b[38;5;124mr\u001b[39m\u001b[38;5;124;03m\"\"\"Return True if CUDA graph capture is underway on the current CUDA stream, False otherwise.\u001b[39;00m\n\u001b[0;32m     26\u001b[0m \n\u001b[0;32m     27\u001b[0m \u001b[38;5;124;03m    If a CUDA context does not exist on the current device, returns False without initializing the context.\u001b[39;00m\n\u001b[0;32m     28\u001b[0m \u001b[38;5;124;03m    \"\"\"\u001b[39;00m\n\u001b[1;32m---> 29\u001b[0m     \u001b[38;5;28;01mreturn\u001b[39;00m \u001b[43m_cuda_isCurrentStreamCapturing\u001b[49m\u001b[43m(\u001b[49m\u001b[43m)\u001b[49m\n",
      "\u001b[1;31mRuntimeError\u001b[0m: CUDA error: unknown error\nCUDA kernel errors might be asynchronously reported at some other API call, so the stacktrace below might be incorrect.\nFor debugging consider passing CUDA_LAUNCH_BLOCKING=1\nCompile with `TORCH_USE_CUDA_DSA` to enable device-side assertions.\n"
     ]
    }
   ],
   "source": [
    "#Training\n",
    "num_epochs = 10\n",
    "\n",
    "for epoch in range(num_epochs):\n",
    "    model.train()\n",
    "    running_loss = 0.0\n",
    "    for X_batch, y_batch in train_loader:\n",
    "        optimizer.zero_grad()\n",
    "        outputs = model(X_batch)\n",
    "        loss = criterion(outputs, y_batch)\n",
    "        loss.backward()\n",
    "        optimizer.step()\n",
    "        running_loss += loss.item()\n",
    "\n",
    "    # Validation\n",
    "    model.eval()\n",
    "    val_loss = 0.0\n",
    "    with torch.no_grad():\n",
    "        for X_val_batch, y_val_batch in val_loader:\n",
    "            outputs = model(X_val_batch)\n",
    "            loss = criterion(outputs, y_val_batch)\n",
    "            val_loss += loss.item()\n",
    "\n",
    "    val_loss /= len(val_loader)\n",
    "    print(f'Epoch [{epoch+1}/{num_epochs}], Loss: {running_loss/len(train_loader)}, Val Loss: {val_loss}')\n"
   ]
  },
  {
   "cell_type": "markdown",
   "id": "cb8d472f-ea31-4d68-94f0-18da02e9cd3d",
   "metadata": {},
   "source": [
    "### Evaluation"
   ]
  },
  {
   "cell_type": "code",
   "execution_count": null,
   "id": "e5f92907-bbbb-4d6e-9dd6-fdc1e8d88dbb",
   "metadata": {},
   "outputs": [],
   "source": [
    "#evaluation \n",
    "model.eval()\n",
    "y_pred = []\n",
    "with torch.no_grad():\n",
    "    for X_batch, _ in test_loader:\n",
    "        outputs = model(X_batch)\n",
    "        _, predicted = torch.max(outputs, 1)\n",
    "        y_pred.extend(predicted.cpu().numpy())\n",
    "\n",
    "# Convert y_test to numpy array for comparison\n",
    "y_true = y_test.cpu().numpy()\n",
    "\n",
    "# Calculate metrics\n",
    "accuracy = accuracy_score(y_true, y_pred)\n",
    "recall = recall_score(y_true, y_pred, average='weighted')\n",
    "f1 = f1_score(y_true, y_pred, average='weighted')\n",
    "\n",
    "print(f'Accuracy: {accuracy}')\n",
    "print(f'Recall: {recall}')\n",
    "print(f'F1 Score: {f1}')"
   ]
  },
  {
   "cell_type": "markdown",
   "id": "aea8d08c-6fc8-425d-b2c0-0ce478958d4d",
   "metadata": {},
   "source": [
    "### Save Model"
   ]
  },
  {
   "cell_type": "code",
   "execution_count": null,
   "id": "98d2bcb5-a193-4ba2-8023-6a1338562028",
   "metadata": {},
   "outputs": [],
   "source": [
    "#Save the model \n",
    "model.save_pretrained('model.bin')\n",
    "tokenizer.save_pretrained('modelTokenizer.json')\n"
   ]
  },
  {
   "cell_type": "code",
   "execution_count": null,
   "id": "ed3dbc4d-ea37-4ddb-b226-9c0330cc30aa",
   "metadata": {},
   "outputs": [],
   "source": []
  },
  {
   "cell_type": "code",
   "execution_count": null,
   "id": "730c0cce-a7a5-4224-896c-2509c8dd6fd4",
   "metadata": {},
   "outputs": [],
   "source": []
  }
 ],
 "metadata": {
  "kernelspec": {
   "display_name": "Python 3 (ipykernel)",
   "language": "python",
   "name": "python3"
  },
  "language_info": {
   "codemirror_mode": {
    "name": "ipython",
    "version": 3
   },
   "file_extension": ".py",
   "mimetype": "text/x-python",
   "name": "python",
   "nbconvert_exporter": "python",
   "pygments_lexer": "ipython3",
   "version": "3.12.5"
  }
 },
 "nbformat": 4,
 "nbformat_minor": 5
}
